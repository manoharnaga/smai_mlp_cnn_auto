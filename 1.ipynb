{
 "cells": [
  {
   "cell_type": "code",
   "execution_count": 199,
   "metadata": {},
   "outputs": [
    {
     "name": "stdout",
     "output_type": "stream",
     "text": [
      "       fixed acidity  volatile acidity  citric acid  residual sugar  \\\n",
      "count    1143.000000       1143.000000  1143.000000     1143.000000   \n",
      "mean        8.311111          0.531339     0.268364        2.532152   \n",
      "std         1.747595          0.179633     0.196686        1.355917   \n",
      "min         4.600000          0.120000     0.000000        0.900000   \n",
      "25%         7.100000          0.392500     0.090000        1.900000   \n",
      "50%         7.900000          0.520000     0.250000        2.200000   \n",
      "75%         9.100000          0.640000     0.420000        2.600000   \n",
      "max        15.900000          1.580000     1.000000       15.500000   \n",
      "\n",
      "         chlorides  free sulfur dioxide  total sulfur dioxide      density  \\\n",
      "count  1143.000000          1143.000000           1143.000000  1143.000000   \n",
      "mean      0.086933            15.615486             45.914698     0.996730   \n",
      "std       0.047267            10.250486             32.782130     0.001925   \n",
      "min       0.012000             1.000000              6.000000     0.990070   \n",
      "25%       0.070000             7.000000             21.000000     0.995570   \n",
      "50%       0.079000            13.000000             37.000000     0.996680   \n",
      "75%       0.090000            21.000000             61.000000     0.997845   \n",
      "max       0.611000            68.000000            289.000000     1.003690   \n",
      "\n",
      "                pH    sulphates      alcohol      quality           Id  \n",
      "count  1143.000000  1143.000000  1143.000000  1143.000000  1143.000000  \n",
      "mean      3.311015     0.657708    10.442111     5.657043   804.969379  \n",
      "std       0.156664     0.170399     1.082196     0.805824   463.997116  \n",
      "min       2.740000     0.330000     8.400000     3.000000     0.000000  \n",
      "25%       3.205000     0.550000     9.500000     5.000000   411.000000  \n",
      "50%       3.310000     0.620000    10.200000     6.000000   794.000000  \n",
      "75%       3.400000     0.730000    11.100000     6.000000  1209.500000  \n",
      "max       4.010000     2.000000    14.900000     8.000000  1597.000000  \n"
     ]
    }
   ],
   "source": [
    "import pandas as pd\n",
    "import numpy as np\n",
    "\n",
    "wine_dataset = pd.read_csv('WineQT.csv')\n",
    "description = wine_dataset.describe()\n",
    "print(description)"
   ]
  },
  {
   "cell_type": "code",
   "execution_count": 200,
   "metadata": {},
   "outputs": [
    {
     "data": {
      "image/png": "[encoded data removed]",
      "text/plain": [
       "<Figure size 640x480 with 1 Axes>"
      ]
     },
     "metadata": {},
     "output_type": "display_data"
    }
   ],
   "source": [
    "import matplotlib.pyplot as plt\n",
    "\n",
    "plt.hist(wine_dataset['quality'], bins=range(3, 10), edgecolor='k')\n",
    "plt.xlabel('Quality')\n",
    "plt.ylabel('Count')\n",
    "plt.title('Distribution of Wine Quality')\n",
    "plt.show()"
   ]
  },
  {
   "cell_type": "code",
   "execution_count": 201,
   "metadata": {},
   "outputs": [],
   "source": [
    "from sklearn.impute import SimpleImputer\n",
    "from scipy import stats\n",
    "\n",
    "imputer = SimpleImputer(strategy='mean')\n",
    "wine_dataset = pd.DataFrame(imputer.fit_transform(wine_dataset), columns=wine_dataset.columns)\n",
    "\n",
    "def winsorize_data(data, column_keys):\n",
    "    winsorized_data = data.copy()\n",
    "    for key in column_keys:\n",
    "        winsorized_data[key] = stats.mstats.winsorize(data[key], limits=[0.01, 0.01])\n",
    "    return winsorized_data\n",
    "\n",
    "winsorized_data = winsorize_data(wine_dataset, wine_dataset.columns)\n",
    "target = wine_dataset['quality']\n",
    "features = wine_dataset.drop(['quality','Id'], axis=1)\n",
    "\n",
    "# one-hot encoding the target for multi-nomial logistic regression\n",
    "from sklearn.preprocessing import OneHotEncoder\n",
    "enc = OneHotEncoder(handle_unknown='ignore')\n",
    "target = enc.fit_transform(target.values.reshape(-1, 1)).toarray()\n"
   ]
  },
  {
   "cell_type": "code",
   "execution_count": 202,
   "metadata": {},
   "outputs": [],
   "source": [
    "from sklearn.model_selection import train_test_split\n",
    "import numpy as np\n",
    "from scipy import stats\n",
    "from sklearn.preprocessing import StandardScaler, MinMaxScaler\n",
    "\n",
    "X_train, X_test, y_train, y_test = train_test_split(features, target, test_size=0.2, random_state=42)\n",
    "X_train, X_val, y_train, y_val = train_test_split(X_train, y_train, test_size=0.2, random_state=42)\n",
    "\n",
    "# Standardize\n",
    "scaler = StandardScaler()\n",
    "X_train_standard = scaler.fit_transform(X_train)\n",
    "X_val_standard = scaler.transform(X_val)\n",
    "X_test_standard = scaler.transform(X_test)\n",
    "\n",
    "# Normalize\n",
    "min_max_scaler = MinMaxScaler()\n",
    "X_train_normalized = min_max_scaler.fit_transform(X_train)\n",
    "X_val_normalized = min_max_scaler.transform(X_val)\n",
    "X_test_normalized = min_max_scaler.transform(X_test)\n"
   ]
  },
  {
   "cell_type": "code",
   "execution_count": 203,
   "metadata": {},
   "outputs": [],
   "source": [
    "import numpy as np\n",
    "from scipy import stats\n",
    "from sklearn.preprocessing import StandardScaler, MinMaxScaler\n",
    "from sklearn.impute import SimpleImputer\n",
    "from sklearn.metrics import accuracy_score, classification_report\n",
    "from sklearn.model_selection import train_test_split\n",
    "\n",
    "class MultinomialLogisticRegression:\n",
    "    def __init__(self, learning_rate=0.01, num_iterations=1000):\n",
    "        self.learning_rate = learning_rate\n",
    "        self.num_iterations = num_iterations\n",
    "\n",
    "    def sigmoid(self, z):\n",
    "        return 1 / (1 + np.exp(-z))\n",
    "\n",
    "    def softmax(self, z):\n",
    "        exp_z = np.exp(z - np.max(z, axis=1, keepdims=True))\n",
    "        return exp_z / exp_z.sum(axis=1, keepdims=True)\n",
    "\n",
    "    def initialize_params(self, num_features, num_classes):\n",
    "        self.theta = np.zeros((num_features, num_classes))\n",
    "\n",
    "    def predict(self, X):\n",
    "        z = np.dot(X, self.theta)\n",
    "        return np.argmax(self.softmax(z), axis=1)\n",
    "\n",
    "    def cross_entropy_loss(self, X, y):\n",
    "        m = X.shape[0]\n",
    "        z = np.dot(X, self.theta)\n",
    "        predicted_probabilities = self.softmax(z)\n",
    "        loss = -np.sum(np.log(predicted_probabilities[range(m), np.argmax(y, axis=1)])) / m\n",
    "        return loss\n",
    "\n",
    "    def fit(self, X, y):\n",
    "        m, n = X.shape\n",
    "        num_classes = y.shape[1]\n",
    "        self.initialize_params(n, num_classes)\n",
    "\n",
    "        for i in range(self.num_iterations):\n",
    "            z = np.dot(X, self.theta)\n",
    "            predicted_probabilities = self.softmax(z)\n",
    "            gradient = -np.dot(X.T, (y - predicted_probabilities)) / m\n",
    "            self.theta -= self.learning_rate * gradient\n",
    "\n",
    "    def train(self, X_train, y_train, X_val, y_val):\n",
    "        self.fit(X_train, y_train)\n",
    "\n",
    "        train_loss = self.cross_entropy_loss(X_train, y_train)\n",
    "        val_loss = self.cross_entropy_loss(X_val, y_val)\n",
    "\n",
    "        return train_loss, val_loss\n"
   ]
  },
  {
   "cell_type": "code",
   "execution_count": 204,
   "metadata": {},
   "outputs": [],
   "source": [
    "def gradient_descent(X, y, learning_rate, num_iterations):\n",
    "    m, n = X.shape\n",
    "    theta = np.zeros(n)\n",
    "    for i in range(num_iterations):\n",
    "        z = np.dot(X, theta)\n",
    "        predicted_probabilities = 1 / (1 + np.exp(-z))\n",
    "        gradient = np.dot(X.T, predicted_probabilities - y) / m\n",
    "        theta -= learning_rate * gradient\n",
    "    return theta\n"
   ]
  },
  {
   "cell_type": "code",
   "execution_count": 205,
   "metadata": {},
   "outputs": [
    {
     "name": "stdout",
     "output_type": "stream",
     "text": [
      "Validation Set Metrics:\n",
      "              precision    recall  f1-score   support\n",
      "\n",
      "           0       0.00      0.00      0.00         2\n",
      "           1       0.00      0.00      0.00         6\n",
      "           2       0.42      0.78      0.54        63\n",
      "           3       0.00      0.00      0.00        80\n",
      "           4       0.20      0.48      0.28        27\n",
      "           5       0.00      0.00      0.00         5\n",
      "\n",
      "    accuracy                           0.34       183\n",
      "   macro avg       0.10      0.21      0.14       183\n",
      "weighted avg       0.17      0.34      0.23       183\n",
      "\n",
      "Train Loss: 3.0512\n",
      "Validation Loss: 3.7685\n",
      "Validation Accuracy: 33.88%\n"
     ]
    },
    {
     "name": "stderr",
     "output_type": "stream",
     "text": [
      "/home/manohar/.local/lib/python3.10/site-packages/sklearn/metrics/_classification.py:1344: UndefinedMetricWarning: Precision and F-score are ill-defined and being set to 0.0 in labels with no predicted samples. Use `zero_division` parameter to control this behavior.\n",
      "  _warn_prf(average, modifier, msg_start, len(result))\n",
      "/home/manohar/.local/lib/python3.10/site-packages/sklearn/metrics/_classification.py:1344: UndefinedMetricWarning: Precision and F-score are ill-defined and being set to 0.0 in labels with no predicted samples. Use `zero_division` parameter to control this behavior.\n",
      "  _warn_prf(average, modifier, msg_start, len(result))\n",
      "/home/manohar/.local/lib/python3.10/site-packages/sklearn/metrics/_classification.py:1344: UndefinedMetricWarning: Precision and F-score are ill-defined and being set to 0.0 in labels with no predicted samples. Use `zero_division` parameter to control this behavior.\n",
      "  _warn_prf(average, modifier, msg_start, len(result))\n"
     ]
    }
   ],
   "source": [
    "\n",
    "model = MultinomialLogisticRegression(learning_rate=0.01, num_iterations=1000)\n",
    "\n",
    "train_loss, val_loss = model.train(X_train, y_train, X_val, y_val)\n",
    "\n",
    "y_val_pred = model.predict(X_val)\n",
    "\n",
    "val_accuracy = accuracy_score(np.argmax(y_val, axis=1), y_val_pred)\n",
    "\n",
    "print(\"Validation Set Metrics:\")\n",
    "print(classification_report(np.argmax(y_val, axis=1), y_val_pred))\n",
    "\n",
    "print(f\"Train Loss: {train_loss:.4f}\")\n",
    "print(f\"Validation Loss: {val_loss:.4f}\")\n",
    "print(f\"Validation Accuracy: {val_accuracy * 100:.2f}%\")\n"
   ]
  },
  {
   "cell_type": "code",
   "execution_count": 206,
   "metadata": {},
   "outputs": [
    {
     "data": {
      "text/html": [
       "Finishing last run (ID:g760px92) before initializing another..."
      ],
      "text/plain": [
       "<IPython.core.display.HTML object>"
      ]
     },
     "metadata": {},
     "output_type": "display_data"
    },
    {
     "data": {
      "text/html": [
       "Waiting for W&B process to finish... <strong style=\"color:green\">(success).</strong>"
      ],
      "text/plain": [
       "<IPython.core.display.HTML object>"
      ]
     },
     "metadata": {},
     "output_type": "display_data"
    },
    {
     "data": {
      "text/html": [
       "<style>\n",
       "    table.wandb td:nth-child(1) { padding: 0 10px; text-align: left ; width: auto;} td:nth-child(2) {text-align: left ; width: 100%}\n",
       "    .wandb-row { display: flex; flex-direction: row; flex-wrap: wrap; justify-content: flex-start; width: 100% }\n",
       "    .wandb-col { display: flex; flex-direction: column; flex-basis: 100%; flex: 1; padding: 10px; }\n",
       "    </style>\n",
       "<div class=\"wandb-row\"><div class=\"wandb-col\"><h3>Run history:</h3><br/><table class=\"wandb\"><tr><td>train_loss</td><td>▁▁▁▁▁▁▁▁▁▁▁▁▁▁▁▁▁▁▁▁▁▁▁▁▁▁▁▁▁▁▁▁▁▁▁▁▁▁▁▁</td></tr><tr><td>val_loss</td><td>▁▁▁▁▁▁▁▁▁▁▁▁▁▁▁▁▁▁▁▁▁▁▁▁▁▁▁▁▁▁▁▁▁▁▁▁▁▁▁▁</td></tr></table><br/></div><div class=\"wandb-col\"><h3>Run summary:</h3><br/><table class=\"wandb\"><tr><td>train_loss</td><td>3.05119</td></tr><tr><td>val_loss</td><td>3.76847</td></tr></table><br/></div></div>"
      ],
      "text/plain": [
       "<IPython.core.display.HTML object>"
      ]
     },
     "metadata": {},
     "output_type": "display_data"
    },
    {
     "data": {
      "text/html": [
       " View run <strong style=\"color:#cdcd00\">ruby-sponge-2</strong> at: <a href='https://wandb.ai/stabber/your-project-name/runs/g760px92' target=\"_blank\">https://wandb.ai/stabber/your-project-name/runs/g760px92</a><br/>Synced 5 W&B file(s), 0 media file(s), 0 artifact file(s) and 0 other file(s)"
      ],
      "text/plain": [
       "<IPython.core.display.HTML object>"
      ]
     },
     "metadata": {},
     "output_type": "display_data"
    },
    {
     "data": {
      "text/html": [
       "Find logs at: <code>./wandb/run-20231023_201813-g760px92/logs</code>"
      ],
      "text/plain": [
       "<IPython.core.display.HTML object>"
      ]
     },
     "metadata": {},
     "output_type": "display_data"
    },
    {
     "data": {
      "text/html": [
       "Successfully finished last run (ID:g760px92). Initializing new run:<br/>"
      ],
      "text/plain": [
       "<IPython.core.display.HTML object>"
      ]
     },
     "metadata": {},
     "output_type": "display_data"
    },
    {
     "data": {
      "text/html": [
       "Tracking run with wandb version 0.15.12"
      ],
      "text/plain": [
       "<IPython.core.display.HTML object>"
      ]
     },
     "metadata": {},
     "output_type": "display_data"
    },
    {
     "data": {
      "text/html": [
       "Run data is saved locally in <code>/home/manohar/Desktop/UG3SEM1/SMAI/Assignments/A3/wandb/run-20231023_201921-fal55pe7</code>"
      ],
      "text/plain": [
       "<IPython.core.display.HTML object>"
      ]
     },
     "metadata": {},
     "output_type": "display_data"
    },
    {
     "data": {
      "text/html": [
       "Syncing run <strong><a href='https://wandb.ai/stabber/your-project-name/runs/fal55pe7' target=\"_blank\">confused-mountain-3</a></strong> to <a href='https://wandb.ai/stabber/your-project-name' target=\"_blank\">Weights & Biases</a> (<a href='https://wandb.me/run' target=\"_blank\">docs</a>)<br/>"
      ],
      "text/plain": [
       "<IPython.core.display.HTML object>"
      ]
     },
     "metadata": {},
     "output_type": "display_data"
    },
    {
     "data": {
      "text/html": [
       " View project at <a href='https://wandb.ai/stabber/your-project-name' target=\"_blank\">https://wandb.ai/stabber/your-project-name</a>"
      ],
      "text/plain": [
       "<IPython.core.display.HTML object>"
      ]
     },
     "metadata": {},
     "output_type": "display_data"
    },
    {
     "data": {
      "text/html": [
       " View run at <a href='https://wandb.ai/stabber/your-project-name/runs/fal55pe7' target=\"_blank\">https://wandb.ai/stabber/your-project-name/runs/fal55pe7</a>"
      ],
      "text/plain": [
       "<IPython.core.display.HTML object>"
      ]
     },
     "metadata": {},
     "output_type": "display_data"
    },
    {
     "name": "stdout",
     "output_type": "stream",
     "text": [
      "Test Set Metrics:\n",
      "              precision    recall  f1-score   support\n",
      "\n",
      "           1       0.00      0.00      0.00         6\n",
      "           2       0.48      0.75      0.58        96\n",
      "           3       0.00      0.00      0.00        99\n",
      "           4       0.15      0.46      0.23        26\n",
      "           5       0.00      0.00      0.00         2\n",
      "\n",
      "    accuracy                           0.37       229\n",
      "   macro avg       0.13      0.24      0.16       229\n",
      "weighted avg       0.22      0.37      0.27       229\n",
      "\n",
      "Test Accuracy: 36.68%\n"
     ]
    },
    {
     "name": "stderr",
     "output_type": "stream",
     "text": [
      "/home/manohar/.local/lib/python3.10/site-packages/sklearn/metrics/_classification.py:1344: UndefinedMetricWarning: Precision and F-score are ill-defined and being set to 0.0 in labels with no predicted samples. Use `zero_division` parameter to control this behavior.\n",
      "  _warn_prf(average, modifier, msg_start, len(result))\n",
      "/home/manohar/.local/lib/python3.10/site-packages/sklearn/metrics/_classification.py:1344: UndefinedMetricWarning: Precision and F-score are ill-defined and being set to 0.0 in labels with no predicted samples. Use `zero_division` parameter to control this behavior.\n",
      "  _warn_prf(average, modifier, msg_start, len(result))\n",
      "/home/manohar/.local/lib/python3.10/site-packages/sklearn/metrics/_classification.py:1344: UndefinedMetricWarning: Precision and F-score are ill-defined and being set to 0.0 in labels with no predicted samples. Use `zero_division` parameter to control this behavior.\n",
      "  _warn_prf(average, modifier, msg_start, len(result))\n"
     ]
    }
   ],
   "source": [
    "import wandb\n",
    "\n",
    "wandb.init(project=\"your-project-name\", config={\n",
    "    \"learning_rate\": 0.01,  \n",
    "    \"epochs\": 1000  \n",
    "})\n",
    "\n",
    "learning_rate = wandb.config.learning_rate\n",
    "epochs = wandb.config.epochs\n",
    "\n",
    "for epoch in range(epochs):\n",
    "    train_loss, val_loss = model.train(X_train, y_train, X_val, y_val)\n",
    "    wandb.log({\"train_loss\": train_loss, \"val_loss\": val_loss})\n",
    "\n",
    "\n",
    "y_test_pred = model.predict(X_test)\n",
    "test_accuracy = accuracy_score(np.argmax(y_test, axis=1), y_test_pred)\n",
    "\n",
    "print(\"Test Set Metrics:\")\n",
    "print(classification_report(np.argmax(y_test, axis=1), y_test_pred))\n",
    "print(f\"Test Accuracy: {test_accuracy * 100:.2f}%\")"
   ]
  }
 ],
 "metadata": {
  "kernelspec": {
   "display_name": "Python 3 (ipykernel)",
   "language": "python",
   "name": "python3"
  },
  "language_info": {
   "codemirror_mode": {
    "name": "ipython",
    "version": 3
   },
   "file_extension": ".py",
   "mimetype": "text/x-python",
   "name": "python",
   "nbconvert_exporter": "python",
   "pygments_lexer": "ipython3",
   "version": "3.10.12"
  }
 },
 "nbformat": 4,
 "nbformat_minor": 2
}
